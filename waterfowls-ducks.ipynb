{
 "cells": [
  {
   "cell_type": "markdown",
   "id": "27e695d0",
   "metadata": {
    "papermill": {
     "duration": 0.003945,
     "end_time": "2024-11-29T19:25:15.325188",
     "exception": false,
     "start_time": "2024-11-29T19:25:15.321243",
     "status": "completed"
    },
    "tags": []
   },
   "source": [
    "# Analyzing Waterfowl data"
   ]
  },
  {
   "cell_type": "markdown",
   "id": "caddb676",
   "metadata": {
    "papermill": {
     "duration": 0.002916,
     "end_time": "2024-11-29T19:25:15.331549",
     "exception": false,
     "start_time": "2024-11-29T19:25:15.328633",
     "status": "completed"
    },
    "tags": []
   },
   "source": [
    "## Import Necessary Libraries Code Cell:\n",
    "This is where you import the necessary libraries. Run this cell to ensure all required libraries are available."
   ]
  },
  {
   "cell_type": "code",
   "execution_count": 1,
   "id": "bc38491c",
   "metadata": {
    "_cell_guid": "b1076dfc-b9ad-4769-8c92-a6c4dae69d19",
    "_uuid": "8f2839f25d086af736a60e9eeb907d3b93b6e0e5",
    "execution": {
     "iopub.execute_input": "2024-11-29T19:25:15.339522Z",
     "iopub.status.busy": "2024-11-29T19:25:15.339112Z",
     "iopub.status.idle": "2024-11-29T19:25:18.122766Z",
     "shell.execute_reply": "2024-11-29T19:25:18.121607Z"
    },
    "papermill": {
     "duration": 2.790546,
     "end_time": "2024-11-29T19:25:18.125194",
     "exception": false,
     "start_time": "2024-11-29T19:25:15.334648",
     "status": "completed"
    },
    "tags": []
   },
   "outputs": [
    {
     "name": "stdout",
     "output_type": "stream",
     "text": [
      "/kaggle/input/waterfowls/waterfowls.csv\n",
      "/kaggle/input/waterfowls/population_data.csv\n",
      "/kaggle/input/waterfowls/conservation_status.csv\n",
      "/kaggle/input/waterfowls/breeding_info.csv\n"
     ]
    }
   ],
   "source": [
    "import numpy as np\n",
    "import pandas as pd\n",
    "import matplotlib.pyplot as plt\n",
    "import seaborn as sns\n",
    "import os\n",
    "for dirname, _, filenames in os.walk('/kaggle/input'):\n",
    "    for filename in filenames:\n",
    "        print(os.path.join(dirname, filename))"
   ]
  },
  {
   "cell_type": "markdown",
   "id": "343ec58a",
   "metadata": {
    "papermill": {
     "duration": 0.002914,
     "end_time": "2024-11-29T19:25:18.131558",
     "exception": false,
     "start_time": "2024-11-29T19:25:18.128644",
     "status": "completed"
    },
    "tags": []
   },
   "source": [
    "## Load Datasets Code Cell:\n",
    "Now create a code cell to load the datasets using the confirmed paths from the previous step. If you see any discrepancies in file names or paths from the output, update them here.\n"
   ]
  },
  {
   "cell_type": "code",
   "execution_count": 2,
   "id": "4682ba59",
   "metadata": {
    "execution": {
     "iopub.execute_input": "2024-11-29T19:25:18.139490Z",
     "iopub.status.busy": "2024-11-29T19:25:18.138980Z",
     "iopub.status.idle": "2024-11-29T19:25:18.176097Z",
     "shell.execute_reply": "2024-11-29T19:25:18.175063Z"
    },
    "papermill": {
     "duration": 0.043708,
     "end_time": "2024-11-29T19:25:18.178409",
     "exception": false,
     "start_time": "2024-11-29T19:25:18.134701",
     "status": "completed"
    },
    "tags": []
   },
   "outputs": [],
   "source": [
    "# Load datasets with confirmed paths\n",
    "waterfowl_df = pd.read_csv('/kaggle/input/waterfowls/waterfowls.csv')\n",
    "\n",
    "population_data_df = pd.read_csv('/kaggle/input/waterfowls/population_data.csv')\n",
    "\n",
    "conservation_status_df = pd.read_csv('/kaggle/input/waterfowls/conservation_status.csv')\n",
    "\n",
    "breeding_info_df = pd.read_csv('/kaggle/input/waterfowls/breeding_info.csv')\n"
   ]
  },
  {
   "cell_type": "markdown",
   "id": "21eeb591",
   "metadata": {
    "papermill": {
     "duration": 0.003067,
     "end_time": "2024-11-29T19:25:18.184767",
     "exception": false,
     "start_time": "2024-11-29T19:25:18.181700",
     "status": "completed"
    },
    "tags": []
   },
   "source": [
    "## Display First Few Rows of Each DataFrame Code Cell:\n",
    "Create another code cell to display the first few rows of each dataframe. Run this cell after successfully loading the datasets."
   ]
  },
  {
   "cell_type": "code",
   "execution_count": 3,
   "id": "dfbf3f20",
   "metadata": {
    "execution": {
     "iopub.execute_input": "2024-11-29T19:25:18.192851Z",
     "iopub.status.busy": "2024-11-29T19:25:18.192082Z",
     "iopub.status.idle": "2024-11-29T19:25:18.236565Z",
     "shell.execute_reply": "2024-11-29T19:25:18.235281Z"
    },
    "papermill": {
     "duration": 0.051002,
     "end_time": "2024-11-29T19:25:18.238834",
     "exception": false,
     "start_time": "2024-11-29T19:25:18.187832",
     "status": "completed"
    },
    "tags": []
   },
   "outputs": [
    {
     "name": "stdout",
     "output_type": "stream",
     "text": [
      "Waterfowl DataFrame: \n"
     ]
    },
    {
     "data": {
      "text/html": [
       "<div>\n",
       "<style scoped>\n",
       "    .dataframe tbody tr th:only-of-type {\n",
       "        vertical-align: middle;\n",
       "    }\n",
       "\n",
       "    .dataframe tbody tr th {\n",
       "        vertical-align: top;\n",
       "    }\n",
       "\n",
       "    .dataframe thead th {\n",
       "        text-align: right;\n",
       "    }\n",
       "</style>\n",
       "<table border=\"1\" class=\"dataframe\">\n",
       "  <thead>\n",
       "    <tr style=\"text-align: right;\">\n",
       "      <th></th>\n",
       "      <th>id</th>\n",
       "      <th>name</th>\n",
       "      <th>type</th>\n",
       "      <th>latin_name</th>\n",
       "      <th>m_avg_length_inches</th>\n",
       "      <th>f_avg_length_inches</th>\n",
       "      <th>m_avg_weight_lbs</th>\n",
       "      <th>f_avg_weight_lbs</th>\n",
       "      <th>life_span_year</th>\n",
       "      <th>egg_avg</th>\n",
       "    </tr>\n",
       "  </thead>\n",
       "  <tbody>\n",
       "    <tr>\n",
       "      <th>0</th>\n",
       "      <td>1</td>\n",
       "      <td>American Black Duck</td>\n",
       "      <td>Dabbling Duck</td>\n",
       "      <td>Anas rubripes</td>\n",
       "      <td>22.0</td>\n",
       "      <td>21</td>\n",
       "      <td>2.7</td>\n",
       "      <td>2.4</td>\n",
       "      <td>10-15</td>\n",
       "      <td>9</td>\n",
       "    </tr>\n",
       "    <tr>\n",
       "      <th>1</th>\n",
       "      <td>2</td>\n",
       "      <td>American Coot</td>\n",
       "      <td>Other</td>\n",
       "      <td>Fulica americana</td>\n",
       "      <td>16.2</td>\n",
       "      <td>16.2</td>\n",
       "      <td>1.5</td>\n",
       "      <td>1.2</td>\n",
       "      <td>2-3</td>\n",
       "      <td>6-11</td>\n",
       "    </tr>\n",
       "    <tr>\n",
       "      <th>2</th>\n",
       "      <td>3</td>\n",
       "      <td>American Wigeon</td>\n",
       "      <td>Dabbling Duck</td>\n",
       "      <td>Mareca americana</td>\n",
       "      <td>20.0</td>\n",
       "      <td>19</td>\n",
       "      <td>1.8</td>\n",
       "      <td>1.6</td>\n",
       "      <td>5-10</td>\n",
       "      <td>9</td>\n",
       "    </tr>\n",
       "    <tr>\n",
       "      <th>3</th>\n",
       "      <td>4</td>\n",
       "      <td>Barnacle Goose</td>\n",
       "      <td>Goose</td>\n",
       "      <td>Branta leucopsis</td>\n",
       "      <td>27.0</td>\n",
       "      <td>23.5</td>\n",
       "      <td>4.03</td>\n",
       "      <td>3.57</td>\n",
       "      <td>10-20</td>\n",
       "      <td>4-6</td>\n",
       "    </tr>\n",
       "    <tr>\n",
       "      <th>4</th>\n",
       "      <td>5</td>\n",
       "      <td>Barrow's Goldeneye</td>\n",
       "      <td>Diving Duck</td>\n",
       "      <td>Buchephala islandica</td>\n",
       "      <td>19.2</td>\n",
       "      <td>17</td>\n",
       "      <td>2.13</td>\n",
       "      <td>1.31</td>\n",
       "      <td>10-15</td>\n",
       "      <td>6-9</td>\n",
       "    </tr>\n",
       "  </tbody>\n",
       "</table>\n",
       "</div>"
      ],
      "text/plain": [
       "   id                 name           type            latin_name  \\\n",
       "0   1  American Black Duck  Dabbling Duck         Anas rubripes   \n",
       "1   2        American Coot          Other      Fulica americana   \n",
       "2   3      American Wigeon  Dabbling Duck      Mareca americana   \n",
       "3   4       Barnacle Goose          Goose      Branta leucopsis   \n",
       "4   5   Barrow's Goldeneye    Diving Duck  Buchephala islandica   \n",
       "\n",
       "   m_avg_length_inches f_avg_length_inches m_avg_weight_lbs f_avg_weight_lbs  \\\n",
       "0                 22.0                  21              2.7              2.4   \n",
       "1                 16.2                16.2              1.5              1.2   \n",
       "2                 20.0                  19              1.8              1.6   \n",
       "3                 27.0                23.5             4.03             3.57   \n",
       "4                 19.2                  17             2.13             1.31   \n",
       "\n",
       "  life_span_year egg_avg  \n",
       "0          10-15       9  \n",
       "1            2-3    6-11  \n",
       "2           5-10       9  \n",
       "3          10-20     4-6  \n",
       "4          10-15     6-9  "
      ]
     },
     "metadata": {},
     "output_type": "display_data"
    },
    {
     "name": "stdout",
     "output_type": "stream",
     "text": [
      "Population Data DataFrame: \n"
     ]
    },
    {
     "data": {
      "text/html": [
       "<div>\n",
       "<style scoped>\n",
       "    .dataframe tbody tr th:only-of-type {\n",
       "        vertical-align: middle;\n",
       "    }\n",
       "\n",
       "    .dataframe tbody tr th {\n",
       "        vertical-align: top;\n",
       "    }\n",
       "\n",
       "    .dataframe thead th {\n",
       "        text-align: right;\n",
       "    }\n",
       "</style>\n",
       "<table border=\"1\" class=\"dataframe\">\n",
       "  <thead>\n",
       "    <tr style=\"text-align: right;\">\n",
       "      <th></th>\n",
       "      <th>id</th>\n",
       "      <th>waterfowl_id</th>\n",
       "      <th>population</th>\n",
       "      <th>migration</th>\n",
       "    </tr>\n",
       "  </thead>\n",
       "  <tbody>\n",
       "    <tr>\n",
       "      <th>0</th>\n",
       "      <td>1</td>\n",
       "      <td>1</td>\n",
       "      <td>Black duck populations declined steeply betwee...</td>\n",
       "      <td>Black ducks are most common in the Atlantic an...</td>\n",
       "    </tr>\n",
       "    <tr>\n",
       "      <th>1</th>\n",
       "      <td>2</td>\n",
       "      <td>2</td>\n",
       "      <td>While limited numbers of coots can still be fo...</td>\n",
       "      <td>The highest coot breeding density exists in th...</td>\n",
       "    </tr>\n",
       "    <tr>\n",
       "      <th>2</th>\n",
       "      <td>3</td>\n",
       "      <td>3</td>\n",
       "      <td>The American Wigeon can be found all over Nort...</td>\n",
       "      <td>American Wigeon are among the earliest waterfo...</td>\n",
       "    </tr>\n",
       "    <tr>\n",
       "      <th>3</th>\n",
       "      <td>4</td>\n",
       "      <td>4</td>\n",
       "      <td>There are four distinct populations of the bar...</td>\n",
       "      <td>The Greenland population of barnacle geese win...</td>\n",
       "    </tr>\n",
       "    <tr>\n",
       "      <th>4</th>\n",
       "      <td>5</td>\n",
       "      <td>5</td>\n",
       "      <td>Ninety percent of the Barrow's goldeneye popul...</td>\n",
       "      <td>In winter, Barrow's goldeneyes are often obser...</td>\n",
       "    </tr>\n",
       "  </tbody>\n",
       "</table>\n",
       "</div>"
      ],
      "text/plain": [
       "   id  waterfowl_id                                         population  \\\n",
       "0   1             1  Black duck populations declined steeply betwee...   \n",
       "1   2             2  While limited numbers of coots can still be fo...   \n",
       "2   3             3  The American Wigeon can be found all over Nort...   \n",
       "3   4             4  There are four distinct populations of the bar...   \n",
       "4   5             5  Ninety percent of the Barrow's goldeneye popul...   \n",
       "\n",
       "                                           migration  \n",
       "0  Black ducks are most common in the Atlantic an...  \n",
       "1  The highest coot breeding density exists in th...  \n",
       "2  American Wigeon are among the earliest waterfo...  \n",
       "3  The Greenland population of barnacle geese win...  \n",
       "4  In winter, Barrow's goldeneyes are often obser...  "
      ]
     },
     "metadata": {},
     "output_type": "display_data"
    },
    {
     "name": "stdout",
     "output_type": "stream",
     "text": [
      "Conservation Status DataFrame: \n"
     ]
    },
    {
     "data": {
      "text/html": [
       "<div>\n",
       "<style scoped>\n",
       "    .dataframe tbody tr th:only-of-type {\n",
       "        vertical-align: middle;\n",
       "    }\n",
       "\n",
       "    .dataframe tbody tr th {\n",
       "        vertical-align: top;\n",
       "    }\n",
       "\n",
       "    .dataframe thead th {\n",
       "        text-align: right;\n",
       "    }\n",
       "</style>\n",
       "<table border=\"1\" class=\"dataframe\">\n",
       "  <thead>\n",
       "    <tr style=\"text-align: right;\">\n",
       "      <th></th>\n",
       "      <th>id</th>\n",
       "      <th>waterfowl_id</th>\n",
       "      <th>conservation_status</th>\n",
       "      <th>image</th>\n",
       "    </tr>\n",
       "  </thead>\n",
       "  <tbody>\n",
       "    <tr>\n",
       "      <th>0</th>\n",
       "      <td>1</td>\n",
       "      <td>1</td>\n",
       "      <td>Least Concern</td>\n",
       "      <td>https://www.ducks.org/files/live/sites/ducksor...</td>\n",
       "    </tr>\n",
       "    <tr>\n",
       "      <th>1</th>\n",
       "      <td>2</td>\n",
       "      <td>2</td>\n",
       "      <td>Least Concern</td>\n",
       "      <td>https://www.ducks.org/files/live/sites/ducksor...</td>\n",
       "    </tr>\n",
       "    <tr>\n",
       "      <th>2</th>\n",
       "      <td>3</td>\n",
       "      <td>3</td>\n",
       "      <td>Least Concern</td>\n",
       "      <td>https://www.ducks.org/files/live/sites/ducksor...</td>\n",
       "    </tr>\n",
       "    <tr>\n",
       "      <th>3</th>\n",
       "      <td>4</td>\n",
       "      <td>4</td>\n",
       "      <td>Least Concern</td>\n",
       "      <td>https://www.ducks.org/files/live/sites/ducksor...</td>\n",
       "    </tr>\n",
       "    <tr>\n",
       "      <th>4</th>\n",
       "      <td>5</td>\n",
       "      <td>5</td>\n",
       "      <td>Least Concern</td>\n",
       "      <td>https://www.ducks.org/files/live/sites/ducksor...</td>\n",
       "    </tr>\n",
       "  </tbody>\n",
       "</table>\n",
       "</div>"
      ],
      "text/plain": [
       "   id  waterfowl_id conservation_status  \\\n",
       "0   1             1       Least Concern   \n",
       "1   2             2       Least Concern   \n",
       "2   3             3       Least Concern   \n",
       "3   4             4       Least Concern   \n",
       "4   5             5       Least Concern   \n",
       "\n",
       "                                               image  \n",
       "0  https://www.ducks.org/files/live/sites/ducksor...  \n",
       "1  https://www.ducks.org/files/live/sites/ducksor...  \n",
       "2  https://www.ducks.org/files/live/sites/ducksor...  \n",
       "3  https://www.ducks.org/files/live/sites/ducksor...  \n",
       "4  https://www.ducks.org/files/live/sites/ducksor...  "
      ]
     },
     "metadata": {},
     "output_type": "display_data"
    },
    {
     "name": "stdout",
     "output_type": "stream",
     "text": [
      "Breeding Info DataFrame: \n"
     ]
    },
    {
     "data": {
      "text/html": [
       "<div>\n",
       "<style scoped>\n",
       "    .dataframe tbody tr th:only-of-type {\n",
       "        vertical-align: middle;\n",
       "    }\n",
       "\n",
       "    .dataframe tbody tr th {\n",
       "        vertical-align: top;\n",
       "    }\n",
       "\n",
       "    .dataframe thead th {\n",
       "        text-align: right;\n",
       "    }\n",
       "</style>\n",
       "<table border=\"1\" class=\"dataframe\">\n",
       "  <thead>\n",
       "    <tr style=\"text-align: right;\">\n",
       "      <th></th>\n",
       "      <th>id</th>\n",
       "      <th>waterfowl_id</th>\n",
       "      <th>description</th>\n",
       "      <th>breeding</th>\n",
       "      <th>food_habits</th>\n",
       "    </tr>\n",
       "  </thead>\n",
       "  <tbody>\n",
       "    <tr>\n",
       "      <th>0</th>\n",
       "      <td>1</td>\n",
       "      <td>1</td>\n",
       "      <td>American black ducks are similar to mallards i...</td>\n",
       "      <td>The American black duck breeds from the upper ...</td>\n",
       "      <td>American black ducks dabble in shallow water t...</td>\n",
       "    </tr>\n",
       "    <tr>\n",
       "      <th>1</th>\n",
       "      <td>2</td>\n",
       "      <td>2</td>\n",
       "      <td>While the American coot resembles a duck, it i...</td>\n",
       "      <td>Nests are built floating on the water and atta...</td>\n",
       "      <td>While typically herbivores, coots are opportun...</td>\n",
       "    </tr>\n",
       "    <tr>\n",
       "      <th>2</th>\n",
       "      <td>3</td>\n",
       "      <td>3</td>\n",
       "      <td>Both males and females have a bluish black-tip...</td>\n",
       "      <td>American Wigeon nest farther north than any ot...</td>\n",
       "      <td>American wigeon are aquatic grazers and forage...</td>\n",
       "    </tr>\n",
       "    <tr>\n",
       "      <th>3</th>\n",
       "      <td>4</td>\n",
       "      <td>4</td>\n",
       "      <td>Barnacle geese have a black chest, neck and cr...</td>\n",
       "      <td>Barnacle geese breed along the northeast coast...</td>\n",
       "      <td>Barnacle geese feed on grasses and coastal pla...</td>\n",
       "    </tr>\n",
       "    <tr>\n",
       "      <th>4</th>\n",
       "      <td>5</td>\n",
       "      <td>5</td>\n",
       "      <td>In flight, a Barrow's goldeneye is difficult t...</td>\n",
       "      <td>Barrow's goldeneyes breed in southeastern Alas...</td>\n",
       "      <td>Barrow's goldeneyes dive to feed on aquatic in...</td>\n",
       "    </tr>\n",
       "  </tbody>\n",
       "</table>\n",
       "</div>"
      ],
      "text/plain": [
       "   id  waterfowl_id                                        description  \\\n",
       "0   1             1  American black ducks are similar to mallards i...   \n",
       "1   2             2  While the American coot resembles a duck, it i...   \n",
       "2   3             3  Both males and females have a bluish black-tip...   \n",
       "3   4             4  Barnacle geese have a black chest, neck and cr...   \n",
       "4   5             5  In flight, a Barrow's goldeneye is difficult t...   \n",
       "\n",
       "                                            breeding  \\\n",
       "0  The American black duck breeds from the upper ...   \n",
       "1  Nests are built floating on the water and atta...   \n",
       "2  American Wigeon nest farther north than any ot...   \n",
       "3  Barnacle geese breed along the northeast coast...   \n",
       "4  Barrow's goldeneyes breed in southeastern Alas...   \n",
       "\n",
       "                                         food_habits  \n",
       "0  American black ducks dabble in shallow water t...  \n",
       "1  While typically herbivores, coots are opportun...  \n",
       "2  American wigeon are aquatic grazers and forage...  \n",
       "3  Barnacle geese feed on grasses and coastal pla...  \n",
       "4  Barrow's goldeneyes dive to feed on aquatic in...  "
      ]
     },
     "metadata": {},
     "output_type": "display_data"
    }
   ],
   "source": [
    "# Display first few rows of each dataframe to verify successful loading\n",
    "print(\"Waterfowl DataFrame: \")\n",
    "display(waterfowl_df.head())\n",
    "\n",
    "print(\"Population Data DataFrame: \")\n",
    "display(population_data_df.head())\n",
    "\n",
    "print(\"Conservation Status DataFrame: \")\n",
    "display(conservation_status_df.head())\n",
    "\n",
    "print(\"Breeding Info DataFrame: \")\n",
    "display(breeding_info_df.head())"
   ]
  },
  {
   "cell_type": "markdown",
   "id": "7690eb58",
   "metadata": {
    "papermill": {
     "duration": 0.004086,
     "end_time": "2024-11-29T19:25:18.247274",
     "exception": false,
     "start_time": "2024-11-29T19:25:18.243188",
     "status": "completed"
    },
    "tags": []
   },
   "source": [
    "## Data Exploration and Cleaning"
   ]
  },
  {
   "cell_type": "code",
   "execution_count": 4,
   "id": "52a175e4",
   "metadata": {
    "execution": {
     "iopub.execute_input": "2024-11-29T19:25:18.257119Z",
     "iopub.status.busy": "2024-11-29T19:25:18.256736Z",
     "iopub.status.idle": "2024-11-29T19:25:18.298014Z",
     "shell.execute_reply": "2024-11-29T19:25:18.296961Z"
    },
    "papermill": {
     "duration": 0.048657,
     "end_time": "2024-11-29T19:25:18.300066",
     "exception": false,
     "start_time": "2024-11-29T19:25:18.251409",
     "status": "completed"
    },
    "tags": []
   },
   "outputs": [
    {
     "name": "stdout",
     "output_type": "stream",
     "text": [
      "Missing Values Summary:\n"
     ]
    },
    {
     "data": {
      "text/html": [
       "<div>\n",
       "<style scoped>\n",
       "    .dataframe tbody tr th:only-of-type {\n",
       "        vertical-align: middle;\n",
       "    }\n",
       "\n",
       "    .dataframe tbody tr th {\n",
       "        vertical-align: top;\n",
       "    }\n",
       "\n",
       "    .dataframe thead th {\n",
       "        text-align: right;\n",
       "    }\n",
       "</style>\n",
       "<table border=\"1\" class=\"dataframe\">\n",
       "  <thead>\n",
       "    <tr style=\"text-align: right;\">\n",
       "      <th></th>\n",
       "      <th>breeding</th>\n",
       "      <th>conservation_status</th>\n",
       "      <th>description</th>\n",
       "      <th>egg_avg</th>\n",
       "      <th>f_avg_length_inches</th>\n",
       "      <th>f_avg_weight_lbs</th>\n",
       "      <th>food_habits</th>\n",
       "      <th>id</th>\n",
       "      <th>image</th>\n",
       "      <th>latin_name</th>\n",
       "      <th>life_span_year</th>\n",
       "      <th>m_avg_length_inches</th>\n",
       "      <th>m_avg_weight_lbs</th>\n",
       "      <th>migration</th>\n",
       "      <th>name</th>\n",
       "      <th>population</th>\n",
       "      <th>type</th>\n",
       "      <th>waterfowl_id</th>\n",
       "    </tr>\n",
       "  </thead>\n",
       "  <tbody>\n",
       "    <tr>\n",
       "      <th>Waterfowl</th>\n",
       "      <td>NaN</td>\n",
       "      <td>NaN</td>\n",
       "      <td>NaN</td>\n",
       "      <td>0.0</td>\n",
       "      <td>0.0</td>\n",
       "      <td>0.0</td>\n",
       "      <td>NaN</td>\n",
       "      <td>0.0</td>\n",
       "      <td>NaN</td>\n",
       "      <td>0.0</td>\n",
       "      <td>0.0</td>\n",
       "      <td>0.0</td>\n",
       "      <td>0.0</td>\n",
       "      <td>NaN</td>\n",
       "      <td>0.0</td>\n",
       "      <td>NaN</td>\n",
       "      <td>0.0</td>\n",
       "      <td>NaN</td>\n",
       "    </tr>\n",
       "    <tr>\n",
       "      <th>Population Data</th>\n",
       "      <td>NaN</td>\n",
       "      <td>NaN</td>\n",
       "      <td>NaN</td>\n",
       "      <td>NaN</td>\n",
       "      <td>NaN</td>\n",
       "      <td>NaN</td>\n",
       "      <td>NaN</td>\n",
       "      <td>0.0</td>\n",
       "      <td>NaN</td>\n",
       "      <td>NaN</td>\n",
       "      <td>NaN</td>\n",
       "      <td>NaN</td>\n",
       "      <td>NaN</td>\n",
       "      <td>0.0</td>\n",
       "      <td>NaN</td>\n",
       "      <td>0.0</td>\n",
       "      <td>NaN</td>\n",
       "      <td>0.0</td>\n",
       "    </tr>\n",
       "    <tr>\n",
       "      <th>Conservation Status</th>\n",
       "      <td>NaN</td>\n",
       "      <td>0.0</td>\n",
       "      <td>NaN</td>\n",
       "      <td>NaN</td>\n",
       "      <td>NaN</td>\n",
       "      <td>NaN</td>\n",
       "      <td>NaN</td>\n",
       "      <td>0.0</td>\n",
       "      <td>0.0</td>\n",
       "      <td>NaN</td>\n",
       "      <td>NaN</td>\n",
       "      <td>NaN</td>\n",
       "      <td>NaN</td>\n",
       "      <td>NaN</td>\n",
       "      <td>NaN</td>\n",
       "      <td>NaN</td>\n",
       "      <td>NaN</td>\n",
       "      <td>0.0</td>\n",
       "    </tr>\n",
       "    <tr>\n",
       "      <th>Breeding Info</th>\n",
       "      <td>0.0</td>\n",
       "      <td>NaN</td>\n",
       "      <td>0.0</td>\n",
       "      <td>NaN</td>\n",
       "      <td>NaN</td>\n",
       "      <td>NaN</td>\n",
       "      <td>0.0</td>\n",
       "      <td>0.0</td>\n",
       "      <td>NaN</td>\n",
       "      <td>NaN</td>\n",
       "      <td>NaN</td>\n",
       "      <td>NaN</td>\n",
       "      <td>NaN</td>\n",
       "      <td>NaN</td>\n",
       "      <td>NaN</td>\n",
       "      <td>NaN</td>\n",
       "      <td>NaN</td>\n",
       "      <td>0.0</td>\n",
       "    </tr>\n",
       "  </tbody>\n",
       "</table>\n",
       "</div>"
      ],
      "text/plain": [
       "                     breeding  conservation_status  description  egg_avg  \\\n",
       "Waterfowl                 NaN                  NaN          NaN      0.0   \n",
       "Population Data           NaN                  NaN          NaN      NaN   \n",
       "Conservation Status       NaN                  0.0          NaN      NaN   \n",
       "Breeding Info             0.0                  NaN          0.0      NaN   \n",
       "\n",
       "                     f_avg_length_inches  f_avg_weight_lbs  food_habits   id  \\\n",
       "Waterfowl                            0.0               0.0          NaN  0.0   \n",
       "Population Data                      NaN               NaN          NaN  0.0   \n",
       "Conservation Status                  NaN               NaN          NaN  0.0   \n",
       "Breeding Info                        NaN               NaN          0.0  0.0   \n",
       "\n",
       "                     image  latin_name  life_span_year  m_avg_length_inches  \\\n",
       "Waterfowl              NaN         0.0             0.0                  0.0   \n",
       "Population Data        NaN         NaN             NaN                  NaN   \n",
       "Conservation Status    0.0         NaN             NaN                  NaN   \n",
       "Breeding Info          NaN         NaN             NaN                  NaN   \n",
       "\n",
       "                     m_avg_weight_lbs  migration  name  population  type  \\\n",
       "Waterfowl                         0.0        NaN   0.0         NaN   0.0   \n",
       "Population Data                   NaN        0.0   NaN         0.0   NaN   \n",
       "Conservation Status               NaN        NaN   NaN         NaN   NaN   \n",
       "Breeding Info                     NaN        NaN   NaN         NaN   NaN   \n",
       "\n",
       "                     waterfowl_id  \n",
       "Waterfowl                     NaN  \n",
       "Population Data               0.0  \n",
       "Conservation Status           0.0  \n",
       "Breeding Info                 0.0  "
      ]
     },
     "metadata": {},
     "output_type": "display_data"
    }
   ],
   "source": [
    "# Create a consolidated DataFrame for missing values\n",
    "missing_values = {\n",
    "    'Waterfowl': waterfowl_df.isnull().sum(),\n",
    "    'Population Data': population_data_df.isnull().sum(),\n",
    "    'Conservation Status': conservation_status_df.isnull().sum(),\n",
    "    'Breeding Info': breeding_info_df.isnull().sum()\n",
    "}\n",
    "\n",
    "# Create a DataFrame from the dictionary and transpose it for better readability\n",
    "missing_values_df = pd.DataFrame(missing_values).transpose()\n",
    "\n",
    "# Display the consolidated table of missing values\n",
    "print(\"Missing Values Summary:\")\n",
    "display(missing_values_df)"
   ]
  },
  {
   "cell_type": "markdown",
   "id": "2a10a79e",
   "metadata": {
    "papermill": {
     "duration": 0.00528,
     "end_time": "2024-11-29T19:25:18.309848",
     "exception": false,
     "start_time": "2024-11-29T19:25:18.304568",
     "status": "completed"
    },
    "tags": []
   },
   "source": [
    "# Visualizations for Waterfowl Dataset"
   ]
  },
  {
   "cell_type": "markdown",
   "id": "a066ebfb",
   "metadata": {
    "papermill": {
     "duration": 0.004143,
     "end_time": "2024-11-29T19:25:18.318785",
     "exception": false,
     "start_time": "2024-11-29T19:25:18.314642",
     "status": "completed"
    },
    "tags": []
   },
   "source": [
    "1. Species Distribution by Type | Bar Chart"
   ]
  },
  {
   "cell_type": "code",
   "execution_count": 5,
   "id": "bd99c46f",
   "metadata": {
    "execution": {
     "iopub.execute_input": "2024-11-29T19:25:18.329852Z",
     "iopub.status.busy": "2024-11-29T19:25:18.329131Z",
     "iopub.status.idle": "2024-11-29T19:25:18.642235Z",
     "shell.execute_reply": "2024-11-29T19:25:18.641084Z"
    },
    "papermill": {
     "duration": 0.321256,
     "end_time": "2024-11-29T19:25:18.644489",
     "exception": false,
     "start_time": "2024-11-29T19:25:18.323233",
     "status": "completed"
    },
    "tags": []
   },
   "outputs": [
    {
     "data": {
      "image/png": "[encoded data removed]",
      "text/plain": [
       "<Figure size 1000x600 with 1 Axes>"
      ]
     },
     "metadata": {},
     "output_type": "display_data"
    }
   ],
   "source": [
    "import pandas as pd\n",
    "import matplotlib.pyplot as plt\n",
    "\n",
    "# Load the dataset\n",
    "waterfowl_df = pd.read_csv('/kaggle/input/waterfowls/waterfowls.csv')\n",
    "\n",
    "# Count the number of species by type\n",
    "type_counts = waterfowl_df['type'].value_counts()\n",
    "\n",
    "# Create a bar chart\n",
    "plt.figure(figsize=(10, 6))\n",
    "type_counts.plot(kind='bar', color='IndianRed')\n",
    "plt.title('Species Distribution by Type')\n",
    "plt.xlabel('Type of Waterfowl', color='Indigo')\n",
    "plt.ylabel('Number of Species', color='Indigo')\n",
    "plt.xticks(rotation=50)\n",
    "\n",
    "# Setting Y-axis to display only integer values\n",
    "plt.gca().yaxis.set_major_locator(plt.MaxNLocator(integer=True))\n",
    "\n",
    "plt.show()"
   ]
  },
  {
   "cell_type": "markdown",
   "id": "c0bae23d",
   "metadata": {
    "papermill": {
     "duration": 0.004722,
     "end_time": "2024-11-29T19:25:18.654567",
     "exception": false,
     "start_time": "2024-11-29T19:25:18.649845",
     "status": "completed"
    },
    "tags": []
   },
   "source": [
    "2. Average Length vs. Lifespan | Box Plot or Violin Plot"
   ]
  },
  {
   "cell_type": "code",
   "execution_count": 6,
   "id": "efc6eef1",
   "metadata": {
    "execution": {
     "iopub.execute_input": "2024-11-29T19:25:18.666194Z",
     "iopub.status.busy": "2024-11-29T19:25:18.665826Z",
     "iopub.status.idle": "2024-11-29T19:25:19.340358Z",
     "shell.execute_reply": "2024-11-29T19:25:19.339315Z"
    },
    "papermill": {
     "duration": 0.68355,
     "end_time": "2024-11-29T19:25:19.343110",
     "exception": false,
     "start_time": "2024-11-29T19:25:18.659560",
     "status": "completed"
    },
    "tags": []
   },
   "outputs": [
    {
     "name": "stdout",
     "output_type": "stream",
     "text": [
      "id                       int64\n",
      "name                    object\n",
      "type                    object\n",
      "latin_name              object\n",
      "m_avg_length_inches    float64\n",
      "f_avg_length_inches     object\n",
      "m_avg_weight_lbs        object\n",
      "f_avg_weight_lbs        object\n",
      "life_span_year          object\n",
      "egg_avg                 object\n",
      "dtype: object\n"
     ]
    },
    {
     "name": "stderr",
     "output_type": "stream",
     "text": [
      "/opt/conda/lib/python3.10/site-packages/seaborn/categorical.py:641: FutureWarning: The default of observed=False is deprecated and will be changed to True in a future version of pandas. Pass observed=False to retain current behavior or observed=True to adopt the future default and silence this warning.\n",
      "  grouped_vals = vals.groupby(grouper)\n",
      "/opt/conda/lib/python3.10/site-packages/seaborn/categorical.py:641: FutureWarning: The default of observed=False is deprecated and will be changed to True in a future version of pandas. Pass observed=False to retain current behavior or observed=True to adopt the future default and silence this warning.\n",
      "  grouped_vals = vals.groupby(grouper)\n"
     ]
    },
    {
     "data": {
      "image/png": "[encoded data removed]",
      "text/plain": [
       "<Figure size 1200x600 with 1 Axes>"
      ]
     },
     "metadata": {},
     "output_type": "display_data"
    }
   ],
   "source": [
    "import pandas as pd\n",
    "import seaborn as sns\n",
    "import matplotlib.pyplot as plt\n",
    "\n",
    "# Load the dataset\n",
    "waterfowl_df = pd.read_csv('/kaggle/input/waterfowls/waterfowls.csv')\n",
    "\n",
    "# Check data types and clean if necessary\n",
    "print(waterfowl_df.dtypes)\n",
    "\n",
    "# Convert 'life_span_year' to a categorical type if it's not already\n",
    "waterfowl_df['life_span_year'] = waterfowl_df['life_span_year'].astype('category')\n",
    "\n",
    "# Remove any potential whitespace and convert average lengths to numeric\n",
    "waterfowl_df['m_avg_length_inches'] = pd.to_numeric(waterfowl_df['m_avg_length_inches'], errors='coerce')\n",
    "waterfowl_df['f_avg_length_inches'] = pd.to_numeric(waterfowl_df['f_avg_length_inches'], errors='coerce')\n",
    "\n",
    "# Prepare the data for plotting\n",
    "# Melt the DataFrame to have a long-form DataFrame suitable for seaborn\n",
    "melted_df = waterfowl_df.melt(id_vars='life_span_year', \n",
    "                    value_vars=['m_avg_length_inches', 'f_avg_length_inches'], \n",
    "                    var_name='Gender', \n",
    "                    value_name='Average Length (inches)')\n",
    "\n",
    "# Create a box plot\n",
    "plt.figure(figsize=(12, 6))\n",
    "sns.boxplot(data=melted_df, x='life_span_year', y='Average Length (inches)', hue='Gender')\n",
    "plt.title('Average Length of Waterfowl by Lifespan')\n",
    "plt.xlabel('Lifespan (Years)')\n",
    "plt.ylabel('Average Length (inches)')\n",
    "plt.xticks(rotation=45)\n",
    "plt.legend(title='Gender', loc='upper right')\n",
    "plt.grid()\n",
    "plt.show()"
   ]
  }
 ],
 "metadata": {
  "kaggle": {
   "accelerator": "none",
   "dataSources": [
    {
     "datasetId": 6128980,
     "sourceId": 9963650,
     "sourceType": "datasetVersion"
    }
   ],
   "dockerImageVersionId": 30786,
   "isGpuEnabled": false,
   "isInternetEnabled": true,
   "language": "python",
   "sourceType": "notebook"
  },
  "kernelspec": {
   "display_name": "Python 3",
   "language": "python",
   "name": "python3"
  },
  "language_info": {
   "codemirror_mode": {
    "name": "ipython",
    "version": 3
   },
   "file_extension": ".py",
   "mimetype": "text/x-python",
   "name": "python",
   "nbconvert_exporter": "python",
   "pygments_lexer": "ipython3",
   "version": "3.10.14"
  },
  "papermill": {
   "default_parameters": {},
   "duration": 7.388637,
   "end_time": "2024-11-29T19:25:19.969808",
   "environment_variables": {},
   "exception": null,
   "input_path": "__notebook__.ipynb",
   "output_path": "__notebook__.ipynb",
   "parameters": {},
   "start_time": "2024-11-29T19:25:12.581171",
   "version": "2.6.0"
  }
 },
 "nbformat": 4,
 "nbformat_minor": 5
}
